{
  "nbformat": 4,
  "nbformat_minor": 0,
  "metadata": {
    "colab": {
      "provenance": []
    },
    "kernelspec": {
      "name": "python3",
      "display_name": "Python 3"
    },
    "language_info": {
      "name": "python"
    }
  },
  "cells": [
    {
      "cell_type": "code",
      "execution_count": 110,
      "metadata": {
        "id": "9uKHdZCn7M_1"
      },
      "outputs": [],
      "source": [
        "import numpy as np\n",
        "import pandas as pd\n",
        "import random\n",
        "import copy\n",
        "import math"
      ]
    },
    {
      "cell_type": "code",
      "source": [
        "# import the dataset\n",
        "iris = np.genfromtxt('iris.data', delimiter=',', dtype = 'str')\n",
        "iris = iris.tolist()\n",
        "\n",
        "# Check if the import is valid\n",
        "#iris"
      ],
      "metadata": {
        "id": "A8RIbwci7VBc"
      },
      "execution_count": 111,
      "outputs": []
    },
    {
      "cell_type": "code",
      "source": [
        "# fix the random seed according to the instruction\n",
        "random.seed(17)\n",
        "\n",
        "# Call random shuffle\n",
        "random.shuffle(iris)\n",
        "\n",
        "# Check the result\n",
        "#iris"
      ],
      "metadata": {
        "id": "H0vhhb7E72mN"
      },
      "execution_count": 112,
      "outputs": []
    },
    {
      "cell_type": "code",
      "source": [
        "# cross validation\n",
        "total_number = len(iris)\n",
        "##total_number # Check\n",
        "cross = []\n",
        "for i in range(1,6):\n",
        "    cross.append(iris[30*(i-1):30*i]) # Split the dataset\n",
        "\n",
        "# Check the result\n",
        "#cross\n",
        "#print(type(cross[0]))\n",
        "#cross[0][0][:4]\n",
        "#cross[0][:,0]\n",
        "#cross[:][:][:2]\n",
        "##len(cross)\n",
        "##len(cross[0])"
      ],
      "metadata": {
        "id": "0zB6aNuk8Z6x"
      },
      "execution_count": 113,
      "outputs": []
    },
    {
      "cell_type": "code",
      "source": [
        "# Initialization\n",
        "# Create the augmented input feature vector\n",
        "aug_cross = copy.deepcopy(cross)\n",
        "for i in range(len(cross)):\n",
        "  for j in range(len(cross[i])):\n",
        "    #print(cross[i][j][:4]) # Code for debugging\n",
        "    new_item = [eval(l) for l in cross[i][j][:4]]\n",
        "    #new_item = cross[i][j][:4] # Code for debugging\n",
        "    new_item.append(1)\n",
        "    aug_cross[i][j]=new_item\n",
        "\n",
        "# Check the result\n",
        "#aug_cross\n",
        "#cross\n",
        "#aug_cross[0][0]"
      ],
      "metadata": {
        "id": "Y2WoaVKeAMEA"
      },
      "execution_count": 116,
      "outputs": []
    },
    {
      "cell_type": "code",
      "source": [
        "# Create vector for one-hot labels\n",
        "#one_hot_label = cross.copy()\n",
        "one_hot_label = copy.deepcopy(cross)\n",
        "for i in range(len(cross)):\n",
        "  for j in range(len(cross[i])):\n",
        "    #print(cross[i][j][4]) # Code for debug\n",
        "    if cross[i][j][4] == 'Iris-setosa':\n",
        "      one_hot_label[i][j]=[1,0,0]\n",
        "    elif cross[i][j][4] == 'Iris-versicolor':\n",
        "      one_hot_label[i][j]=[0,1,0]\n",
        "    else:\n",
        "      one_hot_label[i][j]=[0,0,1]\n",
        "\n",
        "# Check the result\n",
        "#one_hot_label[0][0]"
      ],
      "metadata": {
        "id": "HXnEfkoBMsLo"
      },
      "execution_count": 117,
      "outputs": []
    },
    {
      "cell_type": "code",
      "source": [
        "# Initialize Weight of MLP (Random Initialization with Uniform Distribution)\n",
        "D = 5 # Number of the Input Nodes (Features)\n",
        "H = 20 # Number of the Hidden Nodes\n",
        "L = 3 # number of the Output Nodes (Classes)\n",
        "# Calculate the upper and lower bound of Uniform Distribution\n",
        "Up1 = math.sqrt(6/(D+1+H))\n",
        "Up2 = math.sqrt(6/(H+1+L))\n",
        "Low1 = -Up1\n",
        "Low2 = -Up2\n",
        "# Initialize the weight\n",
        "weights1 = np.random.uniform(low=Low1, high=Up1, size=(D, H)).tolist()\n",
        "weights2 = np.random.uniform(low=Low2, high=Up2, size=(H, L)).tolist()\n",
        "\n",
        "# Check the result\n",
        "#print(weights1[0])\n",
        "#print(len(weights2))\n",
        "#print(weights2)"
      ],
      "metadata": {
        "id": "pKO6WB0RP-kZ"
      },
      "execution_count": 118,
      "outputs": []
    },
    {
      "cell_type": "code",
      "source": [
        "# Define a function for Forward Propagation\n",
        "def forward_propagation(x, weights, one_hot_label):\n",
        "  a = []\n",
        "  z = []\n",
        "  y = []\n",
        "  E = 0 # Initial Value for the Loss Function\n",
        "  new_item = 0\n",
        "\n",
        "  # Calculate a\n",
        "  for j in range(20):\n",
        "    for i in range(5):\n",
        "      # Code for debug\n",
        "      #print(weights1[i][j])\n",
        "      new_item += weights1[i][j]*x[i]\n",
        "    a.append(new_item)\n",
        "\n",
        "  # Calculate z\n",
        "  for j in range(20):\n",
        "    new_item = math.tanh(a[j])\n",
        "    z.append(new_item)\n",
        "\n",
        "  # Calculate y\n",
        "  for k in range(3):\n",
        "    for j in range(20):\n",
        "      new_item += weights2[j][k]*z[j]\n",
        "    y.append(new_item)\n",
        "\n",
        "  # Calculate the loss function\n",
        "  for k in range(3):\n",
        "    #print(y[k])\n",
        "    #print(type(y[k]))\n",
        "    #print(type(one_hot_label[k]))\n",
        "    E += 0.5*(y[k]-one_hot_label[k])**2\n",
        "\n",
        "  # Debugger\n",
        "  #return a\n",
        "  #return z\n",
        "  #return y\n",
        "  #return E\n",
        "\n",
        "  return a,z,y,E\n",
        "\n",
        "# Check the result\n",
        "#forward_propagation(aug_cross[0][0], weights1[0], one_hot_label[0][0])"
      ],
      "metadata": {
        "id": "Q7-G3BL4066t"
      },
      "execution_count": 119,
      "outputs": []
    },
    {
      "cell_type": "code",
      "source": [
        "# Define a function for Backward Propagation\n",
        "def backward_propagation(x,a,z,y,E, one_hot_label):\n",
        "  # Evaluate delta_k\n",
        "  # Initialize value for delta_k\n",
        "  delta_k = []\n",
        "  new_item = 0\n",
        "  for k in range(3):\n",
        "    new_item = y[k]-one_hot_label[k]\n",
        "    delta_k.append(new_item)\n",
        "\n",
        "  # Initialize delta_j\n",
        "  delta_j = []\n",
        "  for j in range(20):\n",
        "    for k in range(3):\n",
        "      new_item += (1-z[j]**2) * weights2[j][k]*delta_k[k]\n",
        "    delta_j.append(new_item)\n",
        "\n",
        "  # Initialize partial derivative 1 and 2\n",
        "  pd1 = np.zeros((4,20)).tolist()\n",
        "  pd2 = np.zeros((20,3)).tolist()\n",
        "  #print(type(partial_derivative_1))\n",
        "\n",
        "  # Calculate pd1\n",
        "  for i in range(4):\n",
        "    for j in range(20):\n",
        "      pd1[i][j] = delta_j[j]*x[i]\n",
        "\n",
        "  # Calculate pd2\n",
        "  for j in range(20):\n",
        "    for k in range(3):\n",
        "      pd2[j][k] = delta_k[k]*z[j]\n",
        "\n",
        "\n",
        "  # Check the result\n",
        "  #return delta_k\n",
        "  #return delta_j\n",
        "  #return pd1\n",
        "  #return pd2\n",
        "  return delta_k,delta_j,pd1,pd2\n",
        "\n",
        "# Check the result\n",
        "#a_z_y_E = list(forward_propagation(aug_cross[0][0], weights1[0], one_hot_label[0][0]))\n",
        "#print(a_z_y_E)\n",
        "#backward_propagation((aug_cross[0][0]),a_z_y_E[0],a_z_y_E[1],a_z_y_E[2],a_z_y_E[3],one_hot_label[0][0])"
      ],
      "metadata": {
        "id": "sVyhbgluTqDN"
      },
      "execution_count": 120,
      "outputs": []
    },
    {
      "cell_type": "code",
      "source": [
        "# Implement the Stochastic Backpropagation Algorithm\n",
        "\n",
        "# Omega has already been initialized above\n",
        "\n",
        "# Initialize eta\n",
        "eta = 0.001\n",
        "\n",
        "# Initialize train and test set\n",
        "train_set = []\n",
        "test_set = []\n",
        "\n",
        "# Obtain the train and test set\n",
        "for t in range(5):\n",
        "  test_set = cross[t]\n",
        "  for tt in range(5):\n",
        "    if tt == t:\n",
        "      pass\n",
        "    else:\n",
        "      train_set += cross[tt]\n",
        "\n",
        "  # Random Shuffle the train set\n",
        "  random.shuffle(train_set)"
      ],
      "metadata": {
        "id": "0rFLQmVOrtWg"
      },
      "execution_count": null,
      "outputs": []
    }
  ]
}