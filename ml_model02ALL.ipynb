{
 "cells": [
  {
   "cell_type": "code",
   "execution_count": null,
   "metadata": {},
   "outputs": [],
   "source": [
    "## import necessary libraries\n",
    "import numpy as np\n",
    "import pandas as pd\n",
    "\n",
    "## read the raw data file\n",
    "df = pd.read_csv('/Users/bruce/Desktop/STATS 302/raw_data/modified_Diabetes_02.csv')\n",
    "\n",
    "# df.drop(df[df['Diabetes_012'] == 1].index, inplace=True)\n",
    "\n",
    "# drop duplicates\n",
    "df.drop_duplicates(inplace=True)\n",
    "\n",
    "# convert data types\n",
    "df[['Diabetes_012','GenHlth', 'Age', 'Education','Income']] = df[['Diabetes_012','GenHlth', 'Age', 'Education','Income']].astype(int)\n",
    "\n",
    "df.info()"
   ]
  },
  {
   "cell_type": "code",
   "execution_count": null,
   "metadata": {},
   "outputs": [],
   "source": [
    "#slice the dataframe for feature and label\n",
    "df_copy = df.copy(deep=True)\n",
    "X, y = df_copy.iloc[:,1:], df_copy.iloc[:,0]\n",
    "print(X.shape)\n",
    "print(y.shape)\n",
    "\n",
    "#get dummies\n",
    "def get_dummies(X):\n",
    "\n",
    "    # Identify discrete columns with more than 2 categories\n",
    "    discrete_columns = [col for col in X.columns if X[col].nunique() > 2 and X[col].dtype != 'float64']\n",
    "\n",
    "    # Create dummy variables for these columns\n",
    "    df_with_dummies = pd.get_dummies(X, columns=discrete_columns, drop_first=True)\n",
    "\n",
    "    return df_with_dummies\n",
    "X = get_dummies(X)\n",
    "X"
   ]
  },
  {
   "cell_type": "code",
   "execution_count": null,
   "metadata": {},
   "outputs": [],
   "source": [
    "from sklearn.preprocessing import StandardScaler\n",
    "from sklearn.model_selection import train_test_split\n",
    "from sklearn.linear_model import LogisticRegression\n",
    "from sklearn.metrics import accuracy_score, precision_score, recall_score, f1_score, roc_curve, auc\n",
    "import matplotlib.pyplot as plt\n",
    "\n",
    "## Splitting the data into train and test sets\n",
    "X_train, X_test, y_train, y_test = train_test_split(X, y, test_size=0.4, random_state=42)"
   ]
  },
  {
   "cell_type": "code",
   "execution_count": null,
   "metadata": {},
   "outputs": [],
   "source": [
    "## Standard scaling\n",
    "from sklearn.preprocessing import StandardScaler\n",
    "\n",
    "scalar = StandardScaler()\n",
    "X_scaled = scalar.fit_transform(X_train)\n",
    "X_scaled_test = scalar.fit_transform(X_test)"
   ]
  },
  {
   "cell_type": "code",
   "execution_count": null,
   "metadata": {},
   "outputs": [],
   "source": [
    "from sklearn.model_selection import StratifiedKFold, cross_val_score\n",
    "from sklearn.linear_model import LogisticRegression\n",
    "from sklearn.neighbors import KNeighborsClassifier\n",
    "from sklearn.naive_bayes import GaussianNB\n",
    "from sklearn.svm import SVC\n",
    "from sklearn import tree\n",
    "from sklearn.ensemble import RandomForestClassifier\n",
    "from sklearn.ensemble import GradientBoostingClassifier\n",
    "from sklearn.ensemble import AdaBoostClassifier\n",
    "from sklearn.metrics import recall_score\n",
    "\n",
    "import numpy as np\n",
    "\n",
    "# Dictionary of models\n",
    "models = {\n",
    "    'Logistic Regression': LogisticRegression(penalty='l2', solver = 'newton-cg', class_weight='balanced', max_iter = 1000),\n",
    "    'Gaussian Naive Bayes': GaussianNB(),\n",
    "    'Decision Tree' : tree.DecisionTreeClassifier(class_weight = 'balanced'),\n",
    "    'Random Forest' : RandomForestClassifier(n_estimators=300, class_weight = 'balanced'),\n",
    "    'Gradient Boosting': GradientBoostingClassifier(n_estimators=300),\n",
    "    'AdaBoost' : AdaBoostClassifier(n_estimators=300),\n",
    "    'K-Nearest Neighbors': KNeighborsClassifier(n_neighbors=5),\n",
    "    'Support Vector Machine': SVC(kernel = 'rbf', class_weight = 'balanced')\n",
    "}\n",
    "\n",
    "stratified_k_fold = StratifiedKFold(n_splits=5)\n",
    "\n",
    "recall_scores = {}\n",
    "\n",
    "for name, model in models.items():\n",
    "\n",
    "    try:\n",
    "        \n",
    "        clf = model\n",
    "        \n",
    "        clf.fit(X_scaled, y_train)\n",
    "        \n",
    "        y_pred = clf.predict(X_scaled_test)\n",
    "\n",
    "        recallScore = recall_score(y_test, y_pred)\n",
    "\n",
    "        recall_scores[name] = []\n",
    "        \n",
    "        recall_scores[name].append(clf)\n",
    "        \n",
    "        recall_scores[name].append(recallScore)\n",
    "\n",
    "        print(f\"Macro Recall of {name}: {recallScore:.4f}\")\n",
    "    \n",
    "    except Exception as e:\n",
    "\n",
    "        print(f\"Error evaluating {name}: {e}\")"
   ]
  }
 ],
 "metadata": {
  "kernelspec": {
   "display_name": "base",
   "language": "python",
   "name": "python3"
  },
  "language_info": {
   "codemirror_mode": {
    "name": "ipython",
    "version": 3
   },
   "file_extension": ".py",
   "mimetype": "text/x-python",
   "name": "python",
   "nbconvert_exporter": "python",
   "pygments_lexer": "ipython3",
   "version": "3.9.12"
  }
 },
 "nbformat": 4,
 "nbformat_minor": 2
}
